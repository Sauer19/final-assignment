{
 "cells": [
  {
   "cell_type": "markdown",
   "metadata": {
    "slideshow": {
     "slide_type": "slide"
    }
   },
   "source": [
    "### MY470 Computer Programming\n",
    "\n",
    "### Final Assignment, MT 2020\n",
    "\n",
    "#### \\*\\*\\* Due 12:00 noon on Monday, January 18, 2021 \\*\\*\\*"
   ]
  },
  {
   "cell_type": "markdown",
   "metadata": {
    "slideshow": {
     "slide_type": "slide"
    }
   },
   "source": [
    "---\n",
    "\n",
    "## Updated collaboration and plagiarism policy\n",
    "\n",
    "> **You are expected to complete the final assignment entirely on your own.**\n",
    ">\n",
    "> **You are not allowed to:**\n",
    ">\n",
    "> * Talk about the assignment with others, whether other students, family, friends, or anonymous online users\n",
    "> * Share your code with others \n",
    "> * View and copy code that directly addresses the questions (e.g. from leaked solutions)\n",
    "> * Post questions on StackOverflow or similar help websites\n",
    "> \n",
    "> **You may:**\n",
    "> \n",
    "> * Use online resources such as Stack Overflow or Python documentation for general queries (e.g. \"how to unpack a tuple\"). However, **if you borrow substantive blocks of code (3+ code lines) or specific solutions (3+ operations) from online forums or blogs, you need to cite your source in the comments**.\n",
    "> * Use the forum \"Clarifying Questions about Assignments\" on the course Moodle site to ask and answer questions about the instructions in the assignments\n",
    "> \n",
    "> Violation of the plagiarism policy for the course will be dealt with in accordance with the [LSE Regulations on Assessment Offences](https://info.lse.ac.uk/Staff/Divisions/Academic-Registrars-Division/Teaching-Quality-Assurance-and-Review-Office/Assets/Documents/Calendar/RegulationsAssessmentOffences-Plagiarism.pdf).\n",
    "\n",
    "---\n",
    "\n",
    "## Are those who observe cheating more likely to start cheating?\n",
    "\n",
    "The final assignment asks you to use the computational thinking and programming skills you learned in the course to answer an empirical social science question. You are expected to apply the best practices and theoretical concepts we covered in the course to produce a program that not only returns the correct output but is also legible, modular, and reasonably optimized. The assignment assumes mastery of loops, conditionals, and functions, as well as awareness of issues related to runtime performance.\n",
    "\n",
    "In the assignment, we will study the social contagion of cheating on the massive multiplayer online game PlayerUnknown's Battlegrounds (PUBG). Cheating in this context means the adoption of unapproved software that gives the player an unfair advantage in the game (e.g. being able to see through walls). Our hypothesis is that players who observe cheating become likely to adopt cheating themselves. To test this hypothesis, we will first count how many observers of cheaters become cheaters within a certain period of time. We will call these **observer–cheater motifs**. We will then simulate alternative universes in which the players played the same game but happened to be killed by someone else. Finally, we will compare how the count of the observer–cheater motifs observed in the actual data compares to what we would expect in a \"randomized\" world.  \n",
    "\n",
    "**NOTE: You are only allowed to use fundamental Python data types (lists, tuples, dictionaries, numpy.ndarray, etc.) to complete this assignment.** You are not allowed to use advanced data querying and data analysis packages such as pandas, sqlite, networkx, or similar. We impose this restriction in order to test your grasp of fundamental programming concepts, not your scripting experience with Python libraries. \n",
    "\n",
    "#### Hints\n",
    "\n",
    "Although this assignment is quite streamlined, imagine that the tasks here are part of a larger project. How would you structure your program if in the future you may need to use a different dataset with similar structure, manipulate the data differently, add additional analyses, or modify the focus of the current analysis?  \n",
    "\n",
    "Keep different data manipulations in separate functions/methods and group related functions/classes in separate `.py` files. Name your modules in an informative way."
   ]
  },
  {
   "cell_type": "markdown",
   "metadata": {
    "slideshow": {
     "slide_type": "slide"
    }
   },
   "source": [
    "### Data\n",
    "\n",
    "You will find the data in the repository [https://github.com/lse-my470/assignment-final-data.git](https://github.com/lse-my470/assignment-final-data.git). Please clone the data repository in the same directory where you clone the repository `assignment-final-yourgithubname`. Keep the name for the data folder `assignment-final-data`. Any time when you refer to the data in your code, please use a relative path such as `'../assignment-final-data/filename.txt'` instead of an absolute path such as `'/Users/myname/Documents/my470/assignment-final-data/filename.txt'`. This way, we will be able to test your submission with our own copy of the data without having to modify your code.\n",
    "\n",
    "The data were collected by Jinny Kim (LSE MSc ASDS '19). The repository contains the following files:\n",
    "\n",
    "* `cheaters.txt` – contains cheaters who played between March 1 and March 10, 2019\n",
    "    1. player account id\n",
    "    * estimated date when the player started cheating\n",
    "    * date when the player's account was banned due to cheating\n",
    "    \n",
    "* `kills.txt` – contains the killings done in 6,000 randomly selected matches played between March 1 and March 10, 2019\n",
    "    1. match id \n",
    "    * account id of the killer\n",
    "    * account id of the player who got killed\n",
    "    * time when the attack (killing) happened\n",
    "\n",
    "#### Hints\n",
    "\n",
    "When writing your code, test it on a small \"toy dataset\", instead of the entire data. This way, you won't need to wait for minutes/hours just to find out that you have a syntax error!\n",
    "\n",
    "You should not modify the original data in any way. If your code creates new data files, you should save them in the directory where this file resides. "
   ]
  },
  {
   "cell_type": "markdown",
   "metadata": {},
   "source": [
    "### Step 1. Observers of cheating start cheating\n",
    "\n",
    "Cheating players can be recognized because they exhibit abnormal killing patterns. We will assume that player A realizes that cheating occurs if either:\n",
    "1. cheating player B kills at least 3 other players before A gets killed in the game\n",
    "\n",
    "or \n",
    "\n",
    "2. A is killed by cheating player B.\n",
    "\n",
    "Count how many players observed at least one cheater and then started cheating within the next 5 days. We will assume here that we can only talk about a causal relationship if the two events (observing a cheater and starting to cheat) are relatively proximate in time (within 5 days of each other). In essence, we are looking for temporal motifs in which payer A observes B and then A becomes cheater, but the timing between the two events should not be more than 5 days.  \n",
    "\n",
    "#### Hint\n",
    "\n",
    "Starting time of cheating is estimated as a date, so assume that a day starts at 0:00 when estimating the 5-day period. \n",
    "\n",
    "\n",
    "### Step 2. Simulating an alternative universe\n",
    "\n",
    "Of course, proximal in time does not necessarily mean causal. \n",
    "\n",
    "To establish causality, we will simulate an alternative world in which everything is the same but the events took somewhat different sequence. If observing cheating causes cheating, in the randomized world we will observe fewer observer–cheater motifs than in reality. To simulate an alternative universe, we will keep the timing and structure of interactions but randomly assign the identities of players. There are certain restrictions we need to observe, however: \n",
    "\n",
    "* Randomize within a game, not between games. \n",
    "* Since cheaters may tend to kill more or kill at a specific period in the game, we will preserve their position in the killing network. That is, only non-cheaters should be randomly reassigned. \n",
    "\n",
    "The figure below illustrates how shuffling should be completed:\n",
    "\n",
    "![Match randomization](match_randomization_diagram.png)\n",
    "\n",
    "#### Hints\n",
    "\n",
    "This step may be time consuming so it is worth finding a way to save the data so that you don't need to run the randomization again and again while working on step 3 below. If you decide to do so, please write your code to save any such files with processed data in the directory where this file resides. This way, we can run your code without having to alter it.\n",
    "\n",
    "Think about what is the most efficient way, both in terms of time and space, to save the data.\n",
    "\n",
    "\n",
    "### Step 3. Evaluating reality against alternative universes \n",
    "\n",
    "Conduct 10 randomizations for the data. Then plot the number of observer–cheater motifs observed in the actual data (use a vertical line) compared to the distribution you get in the randomized data (use a histogram). What do you observe? What does this tell us? (Write 2-3 sentences to reflect on the answer. You will not be marked on what you write but wouldn't it be a waste to do all of this work and not even try to think about what the results mean?) \n",
    "\n"
   ]
  },
  {
   "cell_type": "markdown",
   "metadata": {},
   "source": [
    "## Import and run your code here\n",
    "\n",
    "Keep your code in separate `.py` files and then import it in the code cell below. Then call the functions/methods you need to conduct the analysis described above. We should be able to run the cell below to calculate again the results and get the requested output, without having to modify your code in any way. "
   ]
  },
  {
   "cell_type": "code",
   "execution_count": null,
   "metadata": {},
   "outputs": [],
   "source": [
    "# Import modules to estimate and show results\n"
   ]
  },
  {
   "cell_type": "markdown",
   "metadata": {},
   "source": [
    "---\n",
    "\n",
    "### Evaluation\n",
    "\n",
    "| Aspect | Mark     | Comment   \n",
    "|:-------:|:--------:|:----------------------\n",
    "| Code runs      |   /10    |              \n",
    "| Accuracy       |   /40    | \n",
    "| Legibility     |   /10    | \n",
    "| Modularity     |   /10    | \n",
    "| Optimization   |   /30    | \n",
    "|**Total**|**/100**  | \n"
   ]
  }
 ],
 "metadata": {
  "kernelspec": {
   "display_name": "Python 3",
   "language": "python",
   "name": "python3"
  },
  "language_info": {
   "codemirror_mode": {
    "name": "ipython",
    "version": 3
   },
   "file_extension": ".py",
   "mimetype": "text/x-python",
   "name": "python",
   "nbconvert_exporter": "python",
   "pygments_lexer": "ipython3",
   "version": "3.7.4"
  }
 },
 "nbformat": 4,
 "nbformat_minor": 2
}
